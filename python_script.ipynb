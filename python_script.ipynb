{
 "cells": [
  {
   "cell_type": "markdown",
   "id": "32676eb3-30a7-4946-8649-39cd28d57ada",
   "metadata": {},
   "source": [
    "# My python script that says hello world"
   ]
  },
  {
   "cell_type": "code",
   "execution_count": 1,
   "id": "c6c15750-845c-4e16-8f29-899e4bd54081",
   "metadata": {
    "tags": []
   },
   "outputs": [
    {
     "name": "stdout",
     "output_type": "stream",
     "text": [
      "Hello world\n"
     ]
    }
   ],
   "source": [
    "print (\"Hello world\")\n"
   ]
  },
  {
   "cell_type": "code",
   "execution_count": null,
   "id": "cd99fa62-9e99-4fbf-be1f-9fb8ef062a62",
   "metadata": {},
   "outputs": [],
   "source": []
  }
 ],
 "metadata": {
  "kernelspec": {
   "display_name": "Python 3 (ipykernel)",
   "language": "python",
   "name": "python3"
  },
  "language_info": {
   "codemirror_mode": {
    "name": "ipython",
    "version": 3
   },
   "file_extension": ".py",
   "mimetype": "text/x-python",
   "name": "python",
   "nbconvert_exporter": "python",
   "pygments_lexer": "ipython3",
   "version": "3.11.4"
  }
 },
 "nbformat": 4,
 "nbformat_minor": 5
}
